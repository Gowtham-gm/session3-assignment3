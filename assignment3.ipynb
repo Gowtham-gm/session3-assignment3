{
 "cells": [
  {
   "cell_type": "markdown",
   "metadata": {},
   "source": [
    "# Task 1:\n",
    "\n",
    "problem 1."
   ]
  },
  {
   "cell_type": "code",
   "execution_count": 14,
   "metadata": {},
   "outputs": [
    {
     "name": "stdout",
     "output_type": "stream",
     "text": [
      "zero division error\n"
     ]
    }
   ],
   "source": [
    "#write a function to compute 5/0 and use try/except to catch the exceptions\n",
    "\n",
    "def addfunc(x,y):\n",
    "    a=0\n",
    "    try:\n",
    "        a=x/y\n",
    "        print(a)\n",
    "    except:\n",
    "        print('zero division error')\n",
    "        \n",
    "p=5\n",
    "q=0\n",
    "addfunc(p,q)\n",
    "        "
   ]
  },
  {
   "cell_type": "markdown",
   "metadata": {},
   "source": [
    "problem 2."
   ]
  },
  {
   "cell_type": "code",
   "execution_count": 15,
   "metadata": {},
   "outputs": [
    {
     "name": "stdout",
     "output_type": "stream",
     "text": [
      "americans play baseball\n",
      "americans play cricket\n",
      "americans watch baseball\n",
      "americans watch cricket\n",
      "indians play baseball\n",
      "indians play cricket\n",
      "indians watch baseball\n",
      "indians watch cricket\n"
     ]
    }
   ],
   "source": [
    "#Implement a python program to generate all sentences where subject is in [\"americans\",\"indians\"]\n",
    "#verbs is in[\"play\",\"watch\"] and objects is in [\"baseball\",\"cricket\"]\n",
    "\n",
    "subjects=[\"americans\",\"indians\"]\n",
    "verbs=[\"play\",\"watch\"]\n",
    "objects=[\"baseball\",\"cricket\"]\n",
    "statement=[sub+' '+verb+' '+obj for sub in subjects for verb in verbs for obj in objects]\n",
    "for i in statement:\n",
    "    print(i)\n"
   ]
  },
  {
   "cell_type": "markdown",
   "metadata": {},
   "source": [
    "# Task 2:\n",
    "problem 1"
   ]
  },
  {
   "cell_type": "code",
   "execution_count": 26,
   "metadata": {},
   "outputs": [
    {
     "name": "stdout",
     "output_type": "stream",
     "text": [
      "The powers of the i-th column, when increasing is False:\n",
      "[[ 1  1  1  1]\n",
      " [ 8  4  2  1]\n",
      " [27  9  3  1]\n",
      " [64 16  4  1]]\n",
      "The powers of the i-th column,when increasing is True\n",
      "[[ 1  1  1  1]\n",
      " [ 1  2  4  8]\n",
      " [ 1  3  9 27]\n",
      " [ 1  4 16 64]]\n"
     ]
    }
   ],
   "source": [
    "#Write a function so that columns of the output matrix are the powers of the input vector\n",
    "#the order of the powers is determined by the increasing boolean argument.specifically when incresing is False\n",
    "#the i-th output column is the input vector raised element-wise to the power of N-i-1\n",
    "\n",
    "import numpy as np\n",
    "a=np.array([1,2,3,4])\n",
    "s=np.vander(a,increasing=False)\n",
    "t=np.vander(a,increasing=True)\n",
    "print('The powers of the i-th column, when increasing is False:')\n",
    "print(s)\n",
    "print('The powers of the i-th column,when increasing is True')\n",
    "print(t)"
   ]
  },
  {
   "cell_type": "code",
   "execution_count": null,
   "metadata": {},
   "outputs": [],
   "source": []
  }
 ],
 "metadata": {
  "kernelspec": {
   "display_name": "Python 3",
   "language": "python",
   "name": "python3"
  },
  "language_info": {
   "codemirror_mode": {
    "name": "ipython",
    "version": 3
   },
   "file_extension": ".py",
   "mimetype": "text/x-python",
   "name": "python",
   "nbconvert_exporter": "python",
   "pygments_lexer": "ipython3",
   "version": "3.6.5"
  }
 },
 "nbformat": 4,
 "nbformat_minor": 2
}
